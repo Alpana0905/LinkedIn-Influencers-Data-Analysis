{
 "cells": [
  {
   "cell_type": "markdown",
   "id": "9e9af072",
   "metadata": {},
   "source": [
    "# IMPORT LIBRARIES AND DATASET ANALYSIS"
   ]
  },
  {
   "cell_type": "code",
   "execution_count": 1,
   "id": "7ffb1b57",
   "metadata": {},
   "outputs": [
    {
     "name": "stderr",
     "output_type": "stream",
     "text": [
      "C:\\Users\\ALPANA SINGH\\anaconda3\\envs\\dv\\lib\\site-packages\\IPython\\core\\interactiveshell.py:3398: DtypeWarning: Columns (18) have mixed types.Specify dtype option on import or set low_memory=False.\n",
      "  exec(code_obj, self.user_global_ns, self.user_ns)\n"
     ]
    }
   ],
   "source": [
    "import numpy as np\n",
    "import pandas as pd\n",
    "import matplotlib.pyplot as plt\n",
    "import warnings\n",
    "df = pd.read_csv('influencers_data.csv') # IMPORTING DATASET\n",
    "warnings.filterwarnings('ignore') # TO IGNORE UNNECESSARY WARNINGS"
   ]
  },
  {
   "cell_type": "code",
   "execution_count": 2,
   "id": "c93866bd",
   "metadata": {},
   "outputs": [
    {
     "data": {
      "text/html": [
       "<div>\n",
       "<style scoped>\n",
       "    .dataframe tbody tr th:only-of-type {\n",
       "        vertical-align: middle;\n",
       "    }\n",
       "\n",
       "    .dataframe tbody tr th {\n",
       "        vertical-align: top;\n",
       "    }\n",
       "\n",
       "    .dataframe thead th {\n",
       "        text-align: right;\n",
       "    }\n",
       "</style>\n",
       "<table border=\"1\" class=\"dataframe\">\n",
       "  <thead>\n",
       "    <tr style=\"text-align: right;\">\n",
       "      <th></th>\n",
       "      <th>Unnamed: 0</th>\n",
       "      <th>name</th>\n",
       "      <th>headline</th>\n",
       "      <th>location</th>\n",
       "      <th>followers</th>\n",
       "      <th>connections</th>\n",
       "      <th>about</th>\n",
       "      <th>time_spent</th>\n",
       "      <th>content</th>\n",
       "      <th>content_links</th>\n",
       "      <th>media_type</th>\n",
       "      <th>media_url</th>\n",
       "      <th>num_hashtags</th>\n",
       "      <th>hashtag_followers</th>\n",
       "      <th>hashtags</th>\n",
       "      <th>reactions</th>\n",
       "      <th>comments</th>\n",
       "      <th>views</th>\n",
       "      <th>votes</th>\n",
       "    </tr>\n",
       "  </thead>\n",
       "  <tbody>\n",
       "    <tr>\n",
       "      <th>0</th>\n",
       "      <td>0</td>\n",
       "      <td>Nicholas Wyman</td>\n",
       "      <td>CEO IWSI Group</td>\n",
       "      <td>NaN</td>\n",
       "      <td>6484.0</td>\n",
       "      <td>500+</td>\n",
       "      <td>Nicholas Wyman for the past 25 years has shone...</td>\n",
       "      <td>1 day ago</td>\n",
       "      <td>Robert Lerman  writes that achieving a healthy...</td>\n",
       "      <td>[['https://www.linkedin.com/in/ACoAAACy1HkBviR...</td>\n",
       "      <td>article</td>\n",
       "      <td>['https://www.urban.org/urban-wire/its-time-mo...</td>\n",
       "      <td>4</td>\n",
       "      <td>0</td>\n",
       "      <td>[['#workbasedlearning', 'https://www.linkedin....</td>\n",
       "      <td>12</td>\n",
       "      <td>1</td>\n",
       "      <td>NaN</td>\n",
       "      <td>NaN</td>\n",
       "    </tr>\n",
       "  </tbody>\n",
       "</table>\n",
       "</div>"
      ],
      "text/plain": [
       "   Unnamed: 0            name        headline location  followers connections  \\\n",
       "0           0  Nicholas Wyman  CEO IWSI Group      NaN     6484.0        500+   \n",
       "\n",
       "                                               about time_spent  \\\n",
       "0  Nicholas Wyman for the past 25 years has shone...  1 day ago   \n",
       "\n",
       "                                             content  \\\n",
       "0  Robert Lerman  writes that achieving a healthy...   \n",
       "\n",
       "                                       content_links media_type  \\\n",
       "0  [['https://www.linkedin.com/in/ACoAAACy1HkBviR...    article   \n",
       "\n",
       "                                           media_url  num_hashtags  \\\n",
       "0  ['https://www.urban.org/urban-wire/its-time-mo...             4   \n",
       "\n",
       "   hashtag_followers                                           hashtags  \\\n",
       "0                  0  [['#workbasedlearning', 'https://www.linkedin....   \n",
       "\n",
       "   reactions  comments  views votes  \n",
       "0         12         1    NaN   NaN  "
      ]
     },
     "execution_count": 2,
     "metadata": {},
     "output_type": "execute_result"
    }
   ],
   "source": [
    "df.head(1) #FIRST TUPLE OF DATASET"
   ]
  },
  {
   "cell_type": "code",
   "execution_count": 3,
   "id": "70a62d44",
   "metadata": {},
   "outputs": [
    {
     "data": {
      "text/html": [
       "<div>\n",
       "<style scoped>\n",
       "    .dataframe tbody tr th:only-of-type {\n",
       "        vertical-align: middle;\n",
       "    }\n",
       "\n",
       "    .dataframe tbody tr th {\n",
       "        vertical-align: top;\n",
       "    }\n",
       "\n",
       "    .dataframe thead th {\n",
       "        text-align: right;\n",
       "    }\n",
       "</style>\n",
       "<table border=\"1\" class=\"dataframe\">\n",
       "  <thead>\n",
       "    <tr style=\"text-align: right;\">\n",
       "      <th></th>\n",
       "      <th>Unnamed: 0</th>\n",
       "      <th>name</th>\n",
       "      <th>headline</th>\n",
       "      <th>location</th>\n",
       "      <th>followers</th>\n",
       "      <th>connections</th>\n",
       "      <th>about</th>\n",
       "      <th>time_spent</th>\n",
       "      <th>content</th>\n",
       "      <th>content_links</th>\n",
       "      <th>media_type</th>\n",
       "      <th>media_url</th>\n",
       "      <th>num_hashtags</th>\n",
       "      <th>hashtag_followers</th>\n",
       "      <th>hashtags</th>\n",
       "      <th>reactions</th>\n",
       "      <th>comments</th>\n",
       "      <th>views</th>\n",
       "      <th>votes</th>\n",
       "    </tr>\n",
       "  </thead>\n",
       "  <tbody>\n",
       "    <tr>\n",
       "      <th>34011</th>\n",
       "      <td>34011</td>\n",
       "      <td>Simon Sinek</td>\n",
       "      <td>Optimist and Author at Simon Sinek Inc.</td>\n",
       "      <td>NaN</td>\n",
       "      <td>4206024.0</td>\n",
       "      <td>NaN</td>\n",
       "      <td>Simon Sinek is an unshakable optimist who beli...</td>\n",
       "      <td>4 years ago</td>\n",
       "      <td>The small work hard to serve themselves in a b...</td>\n",
       "      <td>[]</td>\n",
       "      <td>NaN</td>\n",
       "      <td>[]</td>\n",
       "      <td>0</td>\n",
       "      <td>0</td>\n",
       "      <td>[]</td>\n",
       "      <td>789</td>\n",
       "      <td>23</td>\n",
       "      <td>NaN</td>\n",
       "      <td>NaN</td>\n",
       "    </tr>\n",
       "  </tbody>\n",
       "</table>\n",
       "</div>"
      ],
      "text/plain": [
       "       Unnamed: 0         name                                 headline  \\\n",
       "34011       34011  Simon Sinek  Optimist and Author at Simon Sinek Inc.   \n",
       "\n",
       "      location  followers connections  \\\n",
       "34011      NaN  4206024.0         NaN   \n",
       "\n",
       "                                                   about   time_spent  \\\n",
       "34011  Simon Sinek is an unshakable optimist who beli...  4 years ago   \n",
       "\n",
       "                                                 content content_links  \\\n",
       "34011  The small work hard to serve themselves in a b...            []   \n",
       "\n",
       "      media_type media_url  num_hashtags  hashtag_followers hashtags  \\\n",
       "34011        NaN        []             0                  0       []   \n",
       "\n",
       "       reactions  comments  views votes  \n",
       "34011        789        23    NaN   NaN  "
      ]
     },
     "execution_count": 3,
     "metadata": {},
     "output_type": "execute_result"
    }
   ],
   "source": [
    "df.tail(1) #LAST TUPLE OF DATASET"
   ]
  },
  {
   "cell_type": "code",
   "execution_count": 4,
   "id": "839f3df3",
   "metadata": {},
   "outputs": [
    {
     "data": {
      "text/plain": [
       "(34012, 19)"
      ]
     },
     "execution_count": 4,
     "metadata": {},
     "output_type": "execute_result"
    }
   ],
   "source": [
    "df.shape #DIMENSION OF THE DATASET"
   ]
  },
  {
   "cell_type": "code",
   "execution_count": 5,
   "id": "bfcef7a1",
   "metadata": {},
   "outputs": [
    {
     "data": {
      "text/plain": [
       "Index(['Unnamed: 0', 'name', 'headline', 'location', 'followers',\n",
       "       'connections', 'about', 'time_spent', 'content', 'content_links',\n",
       "       'media_type', 'media_url', 'num_hashtags', 'hashtag_followers',\n",
       "       'hashtags', 'reactions', 'comments', 'views', 'votes'],\n",
       "      dtype='object')"
      ]
     },
     "execution_count": 5,
     "metadata": {},
     "output_type": "execute_result"
    }
   ],
   "source": [
    "df.columns # COLUMN NAMES OF DATASET"
   ]
  },
  {
   "cell_type": "code",
   "execution_count": 6,
   "id": "3b59cdc8",
   "metadata": {},
   "outputs": [
    {
     "name": "stdout",
     "output_type": "stream",
     "text": [
      "<class 'pandas.core.frame.DataFrame'>\n",
      "RangeIndex: 34012 entries, 0 to 34011\n",
      "Data columns (total 19 columns):\n",
      " #   Column             Non-Null Count  Dtype  \n",
      "---  ------             --------------  -----  \n",
      " 0   Unnamed: 0         34012 non-null  int64  \n",
      " 1   name               34012 non-null  object \n",
      " 2   headline           34012 non-null  object \n",
      " 3   location           31740 non-null  object \n",
      " 4   followers          33970 non-null  float64\n",
      " 5   connections        25713 non-null  object \n",
      " 6   about              34012 non-null  object \n",
      " 7   time_spent         34011 non-null  object \n",
      " 8   content            31996 non-null  object \n",
      " 9   content_links      34012 non-null  object \n",
      " 10  media_type         26779 non-null  object \n",
      " 11  media_url          34012 non-null  object \n",
      " 12  num_hashtags       34012 non-null  int64  \n",
      " 13  hashtag_followers  34012 non-null  int64  \n",
      " 14  hashtags           34012 non-null  object \n",
      " 15  reactions          34012 non-null  int64  \n",
      " 16  comments           34012 non-null  int64  \n",
      " 17  views              0 non-null      float64\n",
      " 18  votes              86 non-null     object \n",
      "dtypes: float64(2), int64(5), object(12)\n",
      "memory usage: 4.9+ MB\n"
     ]
    }
   ],
   "source": [
    "df.info() # DATASET STRUCTURE"
   ]
  },
  {
   "cell_type": "code",
   "execution_count": 7,
   "id": "f3c8febc",
   "metadata": {},
   "outputs": [
    {
     "data": {
      "text/html": [
       "<div>\n",
       "<style scoped>\n",
       "    .dataframe tbody tr th:only-of-type {\n",
       "        vertical-align: middle;\n",
       "    }\n",
       "\n",
       "    .dataframe tbody tr th {\n",
       "        vertical-align: top;\n",
       "    }\n",
       "\n",
       "    .dataframe thead th {\n",
       "        text-align: right;\n",
       "    }\n",
       "</style>\n",
       "<table border=\"1\" class=\"dataframe\">\n",
       "  <thead>\n",
       "    <tr style=\"text-align: right;\">\n",
       "      <th></th>\n",
       "      <th>Unnamed: 0</th>\n",
       "      <th>followers</th>\n",
       "      <th>num_hashtags</th>\n",
       "      <th>hashtag_followers</th>\n",
       "      <th>reactions</th>\n",
       "      <th>comments</th>\n",
       "      <th>views</th>\n",
       "    </tr>\n",
       "  </thead>\n",
       "  <tbody>\n",
       "    <tr>\n",
       "      <th>count</th>\n",
       "      <td>34012.000000</td>\n",
       "      <td>3.397000e+04</td>\n",
       "      <td>34012.000000</td>\n",
       "      <td>34012.0</td>\n",
       "      <td>34012.000000</td>\n",
       "      <td>34012.000000</td>\n",
       "      <td>0.0</td>\n",
       "    </tr>\n",
       "    <tr>\n",
       "      <th>mean</th>\n",
       "      <td>17005.500000</td>\n",
       "      <td>1.125922e+06</td>\n",
       "      <td>2.099788</td>\n",
       "      <td>0.0</td>\n",
       "      <td>472.956486</td>\n",
       "      <td>26.977273</td>\n",
       "      <td>NaN</td>\n",
       "    </tr>\n",
       "    <tr>\n",
       "      <th>std</th>\n",
       "      <td>9818.563014</td>\n",
       "      <td>3.057750e+06</td>\n",
       "      <td>3.517457</td>\n",
       "      <td>0.0</td>\n",
       "      <td>4163.929944</td>\n",
       "      <td>216.364372</td>\n",
       "      <td>NaN</td>\n",
       "    </tr>\n",
       "    <tr>\n",
       "      <th>min</th>\n",
       "      <td>0.000000</td>\n",
       "      <td>1.710000e+02</td>\n",
       "      <td>0.000000</td>\n",
       "      <td>0.0</td>\n",
       "      <td>0.000000</td>\n",
       "      <td>0.000000</td>\n",
       "      <td>NaN</td>\n",
       "    </tr>\n",
       "    <tr>\n",
       "      <th>25%</th>\n",
       "      <td>8502.750000</td>\n",
       "      <td>9.914800e+04</td>\n",
       "      <td>0.000000</td>\n",
       "      <td>0.0</td>\n",
       "      <td>7.000000</td>\n",
       "      <td>0.000000</td>\n",
       "      <td>NaN</td>\n",
       "    </tr>\n",
       "    <tr>\n",
       "      <th>50%</th>\n",
       "      <td>17005.500000</td>\n",
       "      <td>4.082540e+05</td>\n",
       "      <td>0.000000</td>\n",
       "      <td>0.0</td>\n",
       "      <td>36.000000</td>\n",
       "      <td>2.000000</td>\n",
       "      <td>NaN</td>\n",
       "    </tr>\n",
       "    <tr>\n",
       "      <th>75%</th>\n",
       "      <td>25508.250000</td>\n",
       "      <td>7.193340e+05</td>\n",
       "      <td>3.000000</td>\n",
       "      <td>0.0</td>\n",
       "      <td>143.000000</td>\n",
       "      <td>14.000000</td>\n",
       "      <td>NaN</td>\n",
       "    </tr>\n",
       "    <tr>\n",
       "      <th>max</th>\n",
       "      <td>34011.000000</td>\n",
       "      <td>1.828935e+07</td>\n",
       "      <td>48.000000</td>\n",
       "      <td>0.0</td>\n",
       "      <td>391498.000000</td>\n",
       "      <td>32907.000000</td>\n",
       "      <td>NaN</td>\n",
       "    </tr>\n",
       "  </tbody>\n",
       "</table>\n",
       "</div>"
      ],
      "text/plain": [
       "         Unnamed: 0     followers  num_hashtags  hashtag_followers  \\\n",
       "count  34012.000000  3.397000e+04  34012.000000            34012.0   \n",
       "mean   17005.500000  1.125922e+06      2.099788                0.0   \n",
       "std     9818.563014  3.057750e+06      3.517457                0.0   \n",
       "min        0.000000  1.710000e+02      0.000000                0.0   \n",
       "25%     8502.750000  9.914800e+04      0.000000                0.0   \n",
       "50%    17005.500000  4.082540e+05      0.000000                0.0   \n",
       "75%    25508.250000  7.193340e+05      3.000000                0.0   \n",
       "max    34011.000000  1.828935e+07     48.000000                0.0   \n",
       "\n",
       "           reactions      comments  views  \n",
       "count   34012.000000  34012.000000    0.0  \n",
       "mean      472.956486     26.977273    NaN  \n",
       "std      4163.929944    216.364372    NaN  \n",
       "min         0.000000      0.000000    NaN  \n",
       "25%         7.000000      0.000000    NaN  \n",
       "50%        36.000000      2.000000    NaN  \n",
       "75%       143.000000     14.000000    NaN  \n",
       "max    391498.000000  32907.000000    NaN  "
      ]
     },
     "execution_count": 7,
     "metadata": {},
     "output_type": "execute_result"
    }
   ],
   "source": [
    "df.describe() # DATASET DESCRIPTION"
   ]
  },
  {
   "cell_type": "code",
   "execution_count": 8,
   "id": "09757f81",
   "metadata": {},
   "outputs": [
    {
     "data": {
      "text/plain": [
       "array(['Nicholas Wyman', 'Jonathan Wolfer', 'Karen Gross',\n",
       "       'Kaia Niambi Shivers Ph.D.', \"Daniel Cohen-I'm Flyering\",\n",
       "       'Natalie Riso', 'Dale Corley', 'James Calder', 'Yasi Baiani',\n",
       "       'Julie Kliger', 'Stephanie C. O.', 'Michelle de Haaff',\n",
       "       'Bertalan Meskó, MD, PhD', 'Michelle Chaffee', 'Beth Seidenberg',\n",
       "       'Russell Benaroya', 'Richard Branson', 'Mohamed El-Erian',\n",
       "       'James Altucher', 'Bernard Marr', 'Ian Bremmer', 'Sramana Mitra',\n",
       "       'Lynne Everatt', 'Justin Bariso', 'Carson Tate', 'Gary Frisch',\n",
       "       'James Bareham', 'Tai T.', 'Glenn Leibowitz', 'Marianne Griebler',\n",
       "       'Tom Goodwin', 'Katie Martell', 'Shama Hyder',\n",
       "       'Barry W. Enderwick', 'Steve Blakeman', 'Gillian Zoe Segal',\n",
       "       'Tom Foremski', 'Kiara Imani Williams, Esq.', 'Kellye Whitney',\n",
       "       'Simon Owens', 'Rachel Jones', 'Vikram Mansharamani',\n",
       "       '🏉 Pascal Bouvier', 'Geoffrey Garrett', 'Ben Casselman',\n",
       "       'Tamal Bandyopadhyay', 'Karen Webster', 'Jody Padar',\n",
       "       'Hansi Mehrotra', 'Nick Ciubotariu', 'Neil Hughes', 'Nir Eyal',\n",
       "       'Shelly Palmer', 'Lee Naik', 'Danielle Newnham', 'Vani Kola',\n",
       "       'Chris McCann', 'Andrew Yang', 'Lisa Abeyta', 'Juliet de Baubigny',\n",
       "       'Sarah Kauss', 'Pocket Sun', 'Chantel Soumis', 'String Nguyen',\n",
       "       'Quentin Michael Allums', 'AJ Wilcox', \"Kevin O'Leary\",\n",
       "       'Amy Blaschka', 'Simon Sinek'], dtype=object)"
      ]
     },
     "execution_count": 8,
     "metadata": {},
     "output_type": "execute_result"
    }
   ],
   "source": [
    "df['name'].unique() # FINDING UNIQUE NAMES IN THE \"NAME\" COLUMN OF DATASET"
   ]
  },
  {
   "cell_type": "code",
   "execution_count": 9,
   "id": "3c1f0d30",
   "metadata": {},
   "outputs": [
    {
     "data": {
      "text/plain": [
       "(69,)"
      ]
     },
     "execution_count": 9,
     "metadata": {},
     "output_type": "execute_result"
    }
   ],
   "source": [
    "df['name'].unique().shape # NUMBER OF UNIQUE NAMES IN THE DATASET"
   ]
  },
  {
   "cell_type": "markdown",
   "id": "d0f1ec61",
   "metadata": {},
   "source": [
    "# DATA PREPROCESSING"
   ]
  },
  {
   "cell_type": "code",
   "execution_count": 10,
   "id": "7e1bd9eb",
   "metadata": {
    "scrolled": true
   },
   "outputs": [
    {
     "data": {
      "text/plain": [
       "Unnamed: 0               0\n",
       "name                     0\n",
       "headline                 0\n",
       "location              2272\n",
       "followers               42\n",
       "connections           8299\n",
       "about                    0\n",
       "time_spent               1\n",
       "content               2016\n",
       "content_links            0\n",
       "media_type            7233\n",
       "media_url                0\n",
       "num_hashtags             0\n",
       "hashtag_followers        0\n",
       "hashtags                 0\n",
       "reactions                0\n",
       "comments                 0\n",
       "views                34012\n",
       "votes                33926\n",
       "dtype: int64"
      ]
     },
     "execution_count": 10,
     "metadata": {},
     "output_type": "execute_result"
    }
   ],
   "source": [
    "df.isna().sum() # FINDING NUMBER OF NULL VALUES IN EACH COLUMN OF DATASET"
   ]
  },
  {
   "cell_type": "code",
   "execution_count": 11,
   "id": "8120b0c0",
   "metadata": {},
   "outputs": [],
   "source": [
    "df = df.drop(columns = ['views', 'votes', 'media_type', 'content', 'connections', 'location'])\n",
    "# DROP COLUMNS WITH HIGH VALUE OF NULL VALUES "
   ]
  },
  {
   "cell_type": "code",
   "execution_count": 12,
   "id": "e68d0bea",
   "metadata": {},
   "outputs": [
    {
     "data": {
      "text/plain": [
       "Unnamed: 0            0\n",
       "name                  0\n",
       "headline              0\n",
       "followers            42\n",
       "about                 0\n",
       "time_spent            1\n",
       "content_links         0\n",
       "media_url             0\n",
       "num_hashtags          0\n",
       "hashtag_followers     0\n",
       "hashtags              0\n",
       "reactions             0\n",
       "comments              0\n",
       "dtype: int64"
      ]
     },
     "execution_count": 12,
     "metadata": {},
     "output_type": "execute_result"
    }
   ],
   "source": [
    "df.isna().sum() # FINDING THE NUMBER OF REMAINING NULL VALUES IN THE DATASET"
   ]
  },
  {
   "cell_type": "code",
   "execution_count": 13,
   "id": "cd55e4e4",
   "metadata": {},
   "outputs": [],
   "source": [
    "df = df.dropna(subset=['followers', 'time_spent']) # DROPPING REMAINING NULL VALUES "
   ]
  },
  {
   "cell_type": "code",
   "execution_count": 14,
   "id": "6720ee2d",
   "metadata": {},
   "outputs": [
    {
     "data": {
      "text/plain": [
       "Unnamed: 0           0\n",
       "name                 0\n",
       "headline             0\n",
       "followers            0\n",
       "about                0\n",
       "time_spent           0\n",
       "content_links        0\n",
       "media_url            0\n",
       "num_hashtags         0\n",
       "hashtag_followers    0\n",
       "hashtags             0\n",
       "reactions            0\n",
       "comments             0\n",
       "dtype: int64"
      ]
     },
     "execution_count": 14,
     "metadata": {},
     "output_type": "execute_result"
    }
   ],
   "source": [
    "df.isna().sum() # VERIFYING IF NULL VALUES ARE HANDLED"
   ]
  },
  {
   "cell_type": "code",
   "execution_count": 15,
   "id": "dcce3a1a",
   "metadata": {},
   "outputs": [
    {
     "name": "stdout",
     "output_type": "stream",
     "text": [
      "<class 'pandas.core.frame.DataFrame'>\n",
      "Int64Index: 33969 entries, 0 to 34011\n",
      "Data columns (total 13 columns):\n",
      " #   Column             Non-Null Count  Dtype  \n",
      "---  ------             --------------  -----  \n",
      " 0   Unnamed: 0         33969 non-null  int64  \n",
      " 1   name               33969 non-null  object \n",
      " 2   headline           33969 non-null  object \n",
      " 3   followers          33969 non-null  float64\n",
      " 4   about              33969 non-null  object \n",
      " 5   time_spent         33969 non-null  object \n",
      " 6   content_links      33969 non-null  object \n",
      " 7   media_url          33969 non-null  object \n",
      " 8   num_hashtags       33969 non-null  int64  \n",
      " 9   hashtag_followers  33969 non-null  int64  \n",
      " 10  hashtags           33969 non-null  object \n",
      " 11  reactions          33969 non-null  int64  \n",
      " 12  comments           33969 non-null  int64  \n",
      "dtypes: float64(1), int64(5), object(7)\n",
      "memory usage: 3.6+ MB\n"
     ]
    }
   ],
   "source": [
    "df.info() # PREPROCESSED DATASET STRUCTURE"
   ]
  },
  {
   "cell_type": "code",
   "execution_count": 16,
   "id": "35bb1989",
   "metadata": {},
   "outputs": [],
   "source": [
    "df = df.drop(columns = ['about', 'content_links', 'media_url','hashtags']) # DROPPING UNNECESSARY COLUMNS"
   ]
  },
  {
   "cell_type": "code",
   "execution_count": 17,
   "id": "3e54bb69",
   "metadata": {},
   "outputs": [
    {
     "name": "stdout",
     "output_type": "stream",
     "text": [
      "<class 'pandas.core.frame.DataFrame'>\n",
      "Int64Index: 33969 entries, 0 to 34011\n",
      "Data columns (total 9 columns):\n",
      " #   Column             Non-Null Count  Dtype  \n",
      "---  ------             --------------  -----  \n",
      " 0   Unnamed: 0         33969 non-null  int64  \n",
      " 1   name               33969 non-null  object \n",
      " 2   headline           33969 non-null  object \n",
      " 3   followers          33969 non-null  float64\n",
      " 4   time_spent         33969 non-null  object \n",
      " 5   num_hashtags       33969 non-null  int64  \n",
      " 6   hashtag_followers  33969 non-null  int64  \n",
      " 7   reactions          33969 non-null  int64  \n",
      " 8   comments           33969 non-null  int64  \n",
      "dtypes: float64(1), int64(5), object(3)\n",
      "memory usage: 2.6+ MB\n"
     ]
    }
   ],
   "source": [
    "df.info() # TO CHECK STRUCTURE OF DATASET"
   ]
  },
  {
   "cell_type": "code",
   "execution_count": 18,
   "id": "d0608b63",
   "metadata": {},
   "outputs": [
    {
     "data": {
      "text/html": [
       "<div>\n",
       "<style scoped>\n",
       "    .dataframe tbody tr th:only-of-type {\n",
       "        vertical-align: middle;\n",
       "    }\n",
       "\n",
       "    .dataframe tbody tr th {\n",
       "        vertical-align: top;\n",
       "    }\n",
       "\n",
       "    .dataframe thead th {\n",
       "        text-align: right;\n",
       "    }\n",
       "</style>\n",
       "<table border=\"1\" class=\"dataframe\">\n",
       "  <thead>\n",
       "    <tr style=\"text-align: right;\">\n",
       "      <th></th>\n",
       "      <th>Unnamed: 0</th>\n",
       "      <th>name</th>\n",
       "      <th>headline</th>\n",
       "      <th>followers</th>\n",
       "      <th>time_spent</th>\n",
       "      <th>num_hashtags</th>\n",
       "      <th>hashtag_followers</th>\n",
       "      <th>reactions</th>\n",
       "      <th>comments</th>\n",
       "    </tr>\n",
       "  </thead>\n",
       "  <tbody>\n",
       "    <tr>\n",
       "      <th>0</th>\n",
       "      <td>0</td>\n",
       "      <td>Nicholas Wyman</td>\n",
       "      <td>CEO IWSI Group</td>\n",
       "      <td>6484.0</td>\n",
       "      <td>1 day ago</td>\n",
       "      <td>4</td>\n",
       "      <td>0</td>\n",
       "      <td>12</td>\n",
       "      <td>1</td>\n",
       "    </tr>\n",
       "  </tbody>\n",
       "</table>\n",
       "</div>"
      ],
      "text/plain": [
       "   Unnamed: 0            name        headline  followers time_spent  \\\n",
       "0           0  Nicholas Wyman  CEO IWSI Group     6484.0  1 day ago   \n",
       "\n",
       "   num_hashtags  hashtag_followers  reactions  comments  \n",
       "0             4                  0         12         1  "
      ]
     },
     "execution_count": 18,
     "metadata": {},
     "output_type": "execute_result"
    }
   ],
   "source": [
    "df_first = df[(df['name']=='Nicholas Wyman')] # EDA FOR NAME=\"Nicholas Wyman\"\n",
    "df_first.head(1)"
   ]
  },
  {
   "cell_type": "code",
   "execution_count": 19,
   "id": "3bc22a34",
   "metadata": {},
   "outputs": [
    {
     "data": {
      "image/png": "[encoded data removed]",
      "text/plain": [
       "<Figure size 2000x800 with 1 Axes>"
      ]
     },
     "metadata": {},
     "output_type": "display_data"
    }
   ],
   "source": [
    "fig, ax = plt.subplots(figsize=(20,8))\n",
    "ax.bar(df_first['time_spent'], df_first['reactions'], color='forestgreen')\n",
    "ax.bar(df_first['time_spent'], df_first['comments'], color='Blue')\n",
    "ax.xaxis.set_major_locator(plt.MaxNLocator(10))\n",
    "ax.set_xlabel('Time Spent', fontsize='11')\n",
    "ax.set_ylabel('Number of people', fontsize='11')\n",
    "plt.title('Reaction Vs. Comments', fontsize='25')\n",
    "plt.legend(['Reactions', 'Comments'])\n",
    "plt.grid()\n",
    "plt.show() # PLOTTING REACTION VS COMMENTS"
   ]
  },
  {
   "cell_type": "code",
   "execution_count": 20,
   "id": "3c6da38f",
   "metadata": {},
   "outputs": [
    {
     "data": {
      "image/png": "[encoded data removed]",
      "text/plain": [
       "<Figure size 2000x800 with 1 Axes>"
      ]
     },
     "metadata": {},
     "output_type": "display_data"
    }
   ],
   "source": [
    "fig, ax = plt.subplots(figsize=(20,8))\n",
    "ax.bar(df_first['time_spent'], df_first['num_hashtags'], color='Purple')\n",
    "ax.bar(df_first['time_spent'], df_first['hashtag_followers'], color='Lightseagreen')\n",
    "ax.xaxis.set_major_locator(plt.MaxNLocator(10))\n",
    "ax.set_xlabel('Time Spent', fontsize='11')\n",
    "ax.set_ylabel('Numbers', fontsize='11')\n",
    "plt.title('Number of Hashtags Vs. Hashtag Followers', fontsize='25')\n",
    "plt.legend(['Number of Hashtags', 'Hashtag Followers'])\n",
    "plt.grid()\n",
    "plt.show() # PLOTTING NUMBER OF HASHTAGS VS HASHTAGS FOLLOWERS"
   ]
  },
  {
   "cell_type": "code",
   "execution_count": 21,
   "id": "f3d27c68",
   "metadata": {},
   "outputs": [
    {
     "data": {
      "text/html": [
       "<div>\n",
       "<style scoped>\n",
       "    .dataframe tbody tr th:only-of-type {\n",
       "        vertical-align: middle;\n",
       "    }\n",
       "\n",
       "    .dataframe tbody tr th {\n",
       "        vertical-align: top;\n",
       "    }\n",
       "\n",
       "    .dataframe thead th {\n",
       "        text-align: right;\n",
       "    }\n",
       "</style>\n",
       "<table border=\"1\" class=\"dataframe\">\n",
       "  <thead>\n",
       "    <tr style=\"text-align: right;\">\n",
       "      <th></th>\n",
       "      <th>Unnamed: 0</th>\n",
       "      <th>name</th>\n",
       "      <th>headline</th>\n",
       "      <th>followers</th>\n",
       "      <th>time_spent</th>\n",
       "      <th>num_hashtags</th>\n",
       "      <th>hashtag_followers</th>\n",
       "      <th>reactions</th>\n",
       "      <th>comments</th>\n",
       "    </tr>\n",
       "  </thead>\n",
       "  <tbody>\n",
       "    <tr>\n",
       "      <th>14902</th>\n",
       "      <td>14902</td>\n",
       "      <td>Tom Goodwin</td>\n",
       "      <td>Co-Founder of ALL WE HAVE IS NOW</td>\n",
       "      <td>719334.0</td>\n",
       "      <td>6 hours ago</td>\n",
       "      <td>0</td>\n",
       "      <td>0</td>\n",
       "      <td>78</td>\n",
       "      <td>14</td>\n",
       "    </tr>\n",
       "  </tbody>\n",
       "</table>\n",
       "</div>"
      ],
      "text/plain": [
       "       Unnamed: 0         name                          headline  followers  \\\n",
       "14902       14902  Tom Goodwin  Co-Founder of ALL WE HAVE IS NOW   719334.0   \n",
       "\n",
       "        time_spent  num_hashtags  hashtag_followers  reactions  comments  \n",
       "14902  6 hours ago             0                  0         78        14  "
      ]
     },
     "execution_count": 21,
     "metadata": {},
     "output_type": "execute_result"
    }
   ],
   "source": [
    "df_first = df[(df['name']=='Tom Goodwin')] # EDA FOR NAME=\"Tom Goodwin\"\n",
    "df_first.head(1)"
   ]
  },
  {
   "cell_type": "code",
   "execution_count": 22,
   "id": "69051896",
   "metadata": {},
   "outputs": [
    {
     "data": {
      "image/png": "[encoded data removed]",
      "text/plain": [
       "<Figure size 2000x800 with 1 Axes>"
      ]
     },
     "metadata": {},
     "output_type": "display_data"
    }
   ],
   "source": [
    "df_tom = df_first = df[(df['name']=='Tom Goodwin')]\n",
    "fig, ax = plt.subplots(figsize=(20,8))\n",
    "ax.bar(df_tom['time_spent'], df_tom['reactions'], color='forestgreen')\n",
    "ax.bar(df_tom['time_spent'], df_tom['comments'], color='Blue')\n",
    "ax.xaxis.set_major_locator(plt.MaxNLocator(10))\n",
    "ax.set_xlabel('Time Spent', fontsize='11')\n",
    "ax.set_ylabel('Number of people', fontsize='11')\n",
    "plt.title('Reaction Vs. Comments', fontsize='25')\n",
    "plt.legend(['Reactions', 'Comments'])\n",
    "plt.grid()\n",
    "plt.show() # PLOTTING REACTION VS COMMENTS"
   ]
  },
  {
   "cell_type": "code",
   "execution_count": 23,
   "id": "421bab55",
   "metadata": {},
   "outputs": [
    {
     "data": {
      "image/png": "[encoded data removed]",
      "text/plain": [
       "<Figure size 2000x800 with 1 Axes>"
      ]
     },
     "metadata": {},
     "output_type": "display_data"
    }
   ],
   "source": [
    "fig, ax = plt.subplots(figsize=(20,8))\n",
    "ax.bar(df_tom['time_spent'], df_tom['num_hashtags'], color='Purple')\n",
    "ax.bar(df_tom['time_spent'], df_tom['hashtag_followers'], color='Lightseagreen')\n",
    "ax.xaxis.set_major_locator(plt.MaxNLocator(10))\n",
    "ax.set_xlabel('Time Spent', fontsize='11')\n",
    "ax.set_ylabel('Numbers', fontsize='11')\n",
    "plt.title('Number of Hashtags Vs. Hashtag Followers', fontsize='25')\n",
    "plt.legend(['Number of Hashtags', 'Hashtag Followers'])\n",
    "plt.grid()\n",
    "plt.show() # PLOTTING NUMBER OF HASHTAGS VS HASHTAG FOLLOWERS"
   ]
  },
  {
   "cell_type": "code",
   "execution_count": 24,
   "id": "57166ffb",
   "metadata": {},
   "outputs": [
    {
     "name": "stdout",
     "output_type": "stream",
     "text": [
      "263346.0\n",
      "584690.0\n"
     ]
    }
   ],
   "source": [
    "# DIVIDING DATASET INTO 3 PARTS\n",
    "d1 = np.percentile(df['followers'], 33.33)\n",
    "d2 = np.percentile(df['followers'], 66.66)\n",
    "print(d1)\n",
    "print(d2)"
   ]
  },
  {
   "cell_type": "code",
   "execution_count": 25,
   "id": "25d4c05c",
   "metadata": {},
   "outputs": [],
   "source": [
    "# ASSIGNING NUMERICAL CLASS LABELS TO DATASET\n",
    "def assignNewLabel(label):\n",
    "    if label > d2:\n",
    "        return 3\n",
    "    elif label > d1:\n",
    "        return 2\n",
    "    else:\n",
    "        return 1"
   ]
  },
  {
   "cell_type": "code",
   "execution_count": 26,
   "id": "7c848d7c",
   "metadata": {},
   "outputs": [],
   "source": [
    "df['LabelNum'] = df['followers'].apply(assignNewLabel) # ADDING NEW COLUMN WITH NUMERICAL LABEL"
   ]
  },
  {
   "cell_type": "code",
   "execution_count": 27,
   "id": "d50a441e",
   "metadata": {},
   "outputs": [],
   "source": [
    "# ASSIGNING CATEGORICAL CLASS LABELS TO DATASET\n",
    "def assignNewLabels(label):\n",
    "    if label > d2:\n",
    "        return \"very popular\"\n",
    "    elif label > d1:\n",
    "        return \"popular\"\n",
    "    else:\n",
    "        return \"less popular\""
   ]
  },
  {
   "cell_type": "code",
   "execution_count": 28,
   "id": "3b6c64e6",
   "metadata": {},
   "outputs": [],
   "source": [
    "df['LabelStr'] = df['followers'].apply(assignNewLabels) # ADDING NEW COLUMN WITH CATEGORICAL LABEL"
   ]
  },
  {
   "cell_type": "code",
   "execution_count": 29,
   "id": "dcdb7d27",
   "metadata": {},
   "outputs": [
    {
     "data": {
      "text/html": [
       "<div>\n",
       "<style scoped>\n",
       "    .dataframe tbody tr th:only-of-type {\n",
       "        vertical-align: middle;\n",
       "    }\n",
       "\n",
       "    .dataframe tbody tr th {\n",
       "        vertical-align: top;\n",
       "    }\n",
       "\n",
       "    .dataframe thead th {\n",
       "        text-align: right;\n",
       "    }\n",
       "</style>\n",
       "<table border=\"1\" class=\"dataframe\">\n",
       "  <thead>\n",
       "    <tr style=\"text-align: right;\">\n",
       "      <th></th>\n",
       "      <th>Unnamed: 0</th>\n",
       "      <th>name</th>\n",
       "      <th>headline</th>\n",
       "      <th>followers</th>\n",
       "      <th>time_spent</th>\n",
       "      <th>num_hashtags</th>\n",
       "      <th>hashtag_followers</th>\n",
       "      <th>reactions</th>\n",
       "      <th>comments</th>\n",
       "      <th>LabelNum</th>\n",
       "      <th>LabelStr</th>\n",
       "    </tr>\n",
       "  </thead>\n",
       "  <tbody>\n",
       "    <tr>\n",
       "      <th>0</th>\n",
       "      <td>0</td>\n",
       "      <td>Nicholas Wyman</td>\n",
       "      <td>CEO IWSI Group</td>\n",
       "      <td>6484.0</td>\n",
       "      <td>1 day ago</td>\n",
       "      <td>4</td>\n",
       "      <td>0</td>\n",
       "      <td>12</td>\n",
       "      <td>1</td>\n",
       "      <td>1</td>\n",
       "      <td>less popular</td>\n",
       "    </tr>\n",
       "  </tbody>\n",
       "</table>\n",
       "</div>"
      ],
      "text/plain": [
       "   Unnamed: 0            name        headline  followers time_spent  \\\n",
       "0           0  Nicholas Wyman  CEO IWSI Group     6484.0  1 day ago   \n",
       "\n",
       "   num_hashtags  hashtag_followers  reactions  comments  LabelNum  \\\n",
       "0             4                  0         12         1         1   \n",
       "\n",
       "       LabelStr  \n",
       "0  less popular  "
      ]
     },
     "execution_count": 29,
     "metadata": {},
     "output_type": "execute_result"
    }
   ],
   "source": [
    "df.head(1) # DISPLAYING FIRST VALUE"
   ]
  },
  {
   "cell_type": "code",
   "execution_count": 30,
   "id": "46689970",
   "metadata": {},
   "outputs": [
    {
     "data": {
      "text/html": [
       "<div>\n",
       "<style scoped>\n",
       "    .dataframe tbody tr th:only-of-type {\n",
       "        vertical-align: middle;\n",
       "    }\n",
       "\n",
       "    .dataframe tbody tr th {\n",
       "        vertical-align: top;\n",
       "    }\n",
       "\n",
       "    .dataframe thead th {\n",
       "        text-align: right;\n",
       "    }\n",
       "</style>\n",
       "<table border=\"1\" class=\"dataframe\">\n",
       "  <thead>\n",
       "    <tr style=\"text-align: right;\">\n",
       "      <th></th>\n",
       "      <th>Unnamed: 0</th>\n",
       "      <th>name</th>\n",
       "      <th>headline</th>\n",
       "      <th>followers</th>\n",
       "      <th>time_spent</th>\n",
       "      <th>num_hashtags</th>\n",
       "      <th>hashtag_followers</th>\n",
       "      <th>reactions</th>\n",
       "      <th>comments</th>\n",
       "      <th>LabelNum</th>\n",
       "      <th>LabelStr</th>\n",
       "    </tr>\n",
       "  </thead>\n",
       "  <tbody>\n",
       "    <tr>\n",
       "      <th>34011</th>\n",
       "      <td>34011</td>\n",
       "      <td>Simon Sinek</td>\n",
       "      <td>Optimist and Author at Simon Sinek Inc.</td>\n",
       "      <td>4206024.0</td>\n",
       "      <td>4 years ago</td>\n",
       "      <td>0</td>\n",
       "      <td>0</td>\n",
       "      <td>789</td>\n",
       "      <td>23</td>\n",
       "      <td>3</td>\n",
       "      <td>very popular</td>\n",
       "    </tr>\n",
       "  </tbody>\n",
       "</table>\n",
       "</div>"
      ],
      "text/plain": [
       "       Unnamed: 0         name                                 headline  \\\n",
       "34011       34011  Simon Sinek  Optimist and Author at Simon Sinek Inc.   \n",
       "\n",
       "       followers   time_spent  num_hashtags  hashtag_followers  reactions  \\\n",
       "34011  4206024.0  4 years ago             0                  0        789   \n",
       "\n",
       "       comments  LabelNum      LabelStr  \n",
       "34011        23         3  very popular  "
      ]
     },
     "execution_count": 30,
     "metadata": {},
     "output_type": "execute_result"
    }
   ],
   "source": [
    "df.tail(1) # DISPLAYING LAST VALUE"
   ]
  },
  {
   "cell_type": "code",
   "execution_count": 31,
   "id": "f299c1fa",
   "metadata": {},
   "outputs": [
    {
     "name": "stdout",
     "output_type": "stream",
     "text": [
      "<class 'pandas.core.frame.DataFrame'>\n",
      "Int64Index: 33969 entries, 0 to 34011\n",
      "Data columns (total 11 columns):\n",
      " #   Column             Non-Null Count  Dtype  \n",
      "---  ------             --------------  -----  \n",
      " 0   Unnamed: 0         33969 non-null  int64  \n",
      " 1   name               33969 non-null  object \n",
      " 2   headline           33969 non-null  object \n",
      " 3   followers          33969 non-null  float64\n",
      " 4   time_spent         33969 non-null  object \n",
      " 5   num_hashtags       33969 non-null  int64  \n",
      " 6   hashtag_followers  33969 non-null  int64  \n",
      " 7   reactions          33969 non-null  int64  \n",
      " 8   comments           33969 non-null  int64  \n",
      " 9   LabelNum           33969 non-null  int64  \n",
      " 10  LabelStr           33969 non-null  object \n",
      "dtypes: float64(1), int64(6), object(4)\n",
      "memory usage: 3.1+ MB\n"
     ]
    }
   ],
   "source": [
    "df.info() # DISPLAYING DATASET STRUCTURE"
   ]
  },
  {
   "cell_type": "markdown",
   "id": "5aa8b978",
   "metadata": {},
   "source": [
    "# CLASSIFICATION MODELS"
   ]
  },
  {
   "cell_type": "code",
   "execution_count": 32,
   "id": "4d1cb834",
   "metadata": {},
   "outputs": [
    {
     "name": "stdout",
     "output_type": "stream",
     "text": [
      "       followers  num_hashtags  hashtag_followers  reactions  comments\n",
      "0         6484.0             4                  0         12         1\n",
      "1         6484.0             0                  0         11         0\n",
      "2         6484.0             0                  0         15         0\n",
      "3         6484.0             4                  0         44         0\n",
      "4         6484.0             3                  0         22         2\n",
      "...          ...           ...                ...        ...       ...\n",
      "34007  4206024.0             0                  0       4005        93\n",
      "34008  4206024.0             0                  0       1698        74\n",
      "34009  4206024.0             0                  0        661        59\n",
      "34010  4206024.0             0                  0        766        35\n",
      "34011  4206024.0             0                  0        789        23\n",
      "\n",
      "[33969 rows x 5 columns]\n",
      "0        less popular\n",
      "1        less popular\n",
      "2        less popular\n",
      "3        less popular\n",
      "4        less popular\n",
      "             ...     \n",
      "34007    very popular\n",
      "34008    very popular\n",
      "34009    very popular\n",
      "34010    very popular\n",
      "34011    very popular\n",
      "Name: LabelStr, Length: 33969, dtype: object\n"
     ]
    }
   ],
   "source": [
    "features = ['followers', 'num_hashtags', 'hashtag_followers', 'reactions', 'comments']\n",
    "x = df[features] \n",
    "y = df['LabelStr']\n",
    "print(x)\n",
    "print(y)"
   ]
  },
  {
   "cell_type": "markdown",
   "id": "1f4476bf",
   "metadata": {},
   "source": [
    "### 1. DECISION TREE CLASSIFIER"
   ]
  },
  {
   "cell_type": "code",
   "execution_count": 33,
   "id": "0ff9ca66",
   "metadata": {},
   "outputs": [
    {
     "data": {
      "text/plain": [
       "[Text(0.4, 0.8333333333333334, 'followers <= 277942.0\\ngini = 0.664\\nsamples = 33969\\nvalue = [12784, 10746, 10439]'),\n",
       " Text(0.2, 0.5, 'gini = 0.0\\nsamples = 12784\\nvalue = [12784, 0, 0]'),\n",
       " Text(0.6, 0.5, 'followers <= 602201.0\\ngini = 0.5\\nsamples = 21185\\nvalue = [0, 10746, 10439]'),\n",
       " Text(0.4, 0.16666666666666666, 'gini = 0.0\\nsamples = 10746\\nvalue = [0, 10746, 0]'),\n",
       " Text(0.8, 0.16666666666666666, 'gini = 0.0\\nsamples = 10439\\nvalue = [0, 0, 10439]')]"
      ]
     },
     "execution_count": 33,
     "metadata": {},
     "output_type": "execute_result"
    },
    {
     "data": {
      "image/png": "[encoded data removed]",
      "text/plain": [
       "<Figure size 640x480 with 1 Axes>"
      ]
     },
     "metadata": {},
     "output_type": "display_data"
    }
   ],
   "source": [
    "from sklearn import tree\n",
    "from sklearn.tree import DecisionTreeClassifier\n",
    "\n",
    "dtree = DecisionTreeClassifier()\n",
    "dtree = dtree.fit(x, y)\n",
    "tree.plot_tree(dtree, feature_names=features)"
   ]
  },
  {
   "cell_type": "markdown",
   "id": "10800a5e",
   "metadata": {},
   "source": [
    "### 2. SUPPORT VECTOR CLASSIFIER"
   ]
  },
  {
   "cell_type": "code",
   "execution_count": 40,
   "id": "75fc38e2",
   "metadata": {},
   "outputs": [
    {
     "name": "stdout",
     "output_type": "stream",
     "text": [
      "        followers  num_hashtags  hashtag_followers  reactions  comments\n",
      "5701   18289351.0             0                  0       3416       110\n",
      "31405     85801.0             0                  0          2         1\n",
      "28142    408254.0             0                  0          1         0\n",
      "1100     405743.0             0                  0        334        59\n",
      "3714     263346.0             7                  0         15         2\n",
      "...           ...           ...                ...        ...       ...\n",
      "10498    435757.0             2                  0          8         0\n",
      "11526    301184.0             0                  0         37         1\n",
      "12881    828362.0             0                  0         47         4\n",
      "14062     30971.0             3                  0          2         0\n",
      "2663     263346.0            13                  0         24         1\n",
      "\n",
      "[10191 rows x 5 columns]\n"
     ]
    }
   ],
   "source": [
    "from sklearn.model_selection import train_test_split\n",
    "from sklearn import svm\n",
    "d=df[[\"followers\",\"num_hashtags\",\"hashtag_followers\",\"reactions\",\"comments\"]]\n",
    "t=df[[\"LabelNum\"]]\n",
    "X_train, X_test, y_train, y_test = train_test_split(d, t, test_size=0.3,random_state=109)\n",
    "clf = svm.SVC(kernel='linear')\n",
    "clf.fit(X_train, y_train)\n",
    "y_pred = clf.predict(X_test)"
   ]
  },
  {
   "cell_type": "code",
   "execution_count": 35,
   "id": "667bee71",
   "metadata": {},
   "outputs": [
    {
     "name": "stdout",
     "output_type": "stream",
     "text": [
      "Accuracy: 1.0\n"
     ]
    }
   ],
   "source": [
    "from sklearn import metrics\n",
    "print(\"Accuracy:\",metrics.accuracy_score(y_test, y_pred))"
   ]
  },
  {
   "cell_type": "code",
   "execution_count": 36,
   "id": "868de193",
   "metadata": {},
   "outputs": [
    {
     "data": {
      "text/plain": [
       "array([3], dtype=int64)"
      ]
     },
     "execution_count": 36,
     "metadata": {},
     "output_type": "execute_result"
    }
   ],
   "source": [
    "clf.predict([[79875512, 55, 10, 5005, 60]])"
   ]
  },
  {
   "cell_type": "code",
   "execution_count": 37,
   "id": "295cc052",
   "metadata": {},
   "outputs": [
    {
     "data": {
      "text/plain": [
       "array([2], dtype=int64)"
      ]
     },
     "execution_count": 37,
     "metadata": {},
     "output_type": "execute_result"
    }
   ],
   "source": [
    "clf.predict([[515645, 888, 56, 464, 90]])"
   ]
  },
  {
   "cell_type": "code",
   "execution_count": 38,
   "id": "484934a5",
   "metadata": {},
   "outputs": [
    {
     "data": {
      "text/plain": [
       "array([1], dtype=int64)"
      ]
     },
     "execution_count": 38,
     "metadata": {},
     "output_type": "execute_result"
    }
   ],
   "source": [
    "clf.predict([[7000, 15, 8, 105, 6]])"
   ]
  },
  {
   "cell_type": "markdown",
   "id": "69959164",
   "metadata": {},
   "source": [
    "# CLUSTERING MODELS"
   ]
  },
  {
   "cell_type": "markdown",
   "id": "e5df1716",
   "metadata": {},
   "source": [
    "### 1. K-MEANS CLUSTERING"
   ]
  },
  {
   "cell_type": "code",
   "execution_count": null,
   "id": "14d10408",
   "metadata": {},
   "outputs": [],
   "source": [
    "df.info()"
   ]
  },
  {
   "cell_type": "code",
   "execution_count": null,
   "id": "d6875415",
   "metadata": {},
   "outputs": [],
   "source": [
    "df2=df[[\"followers\",\"num_hashtags\",\"hashtag_followers\",\"reactions\",\"comments\",\"LabelNum\"]]\n",
    "df2.head(1)"
   ]
  },
  {
   "cell_type": "code",
   "execution_count": null,
   "id": "c0b0359f",
   "metadata": {},
   "outputs": [],
   "source": [
    "df2.tail(1)"
   ]
  },
  {
   "cell_type": "code",
   "execution_count": null,
   "id": "572c2bd1",
   "metadata": {},
   "outputs": [],
   "source": [
    "# DATASET NORMALIZATION\n",
    "df_x = df2[[\"followers\",\"num_hashtags\",\"hashtag_followers\",\"reactions\",\"comments\"]]\n",
    "df2[[\"followers\",\"num_hashtags\",\"hashtag_followers\",\"reactions\",\"comments\"]] = (df_x-df_x.mean())/df_x.std()\n",
    "df2.head(1)"
   ]
  },
  {
   "cell_type": "code",
   "execution_count": null,
   "id": "5c99086c",
   "metadata": {},
   "outputs": [],
   "source": [
    "from sklearn.cluster import KMeans\n",
    "x=df2[\"followers\"]\n",
    "y=df2[\"reactions\"]\n",
    "data = list(zip(x, y))"
   ]
  },
  {
   "cell_type": "code",
   "execution_count": null,
   "id": "0a1e61e5",
   "metadata": {},
   "outputs": [],
   "source": [
    "kmeans = KMeans(n_clusters=3)\n",
    "kmeans.fit(data)\n",
    "plt.scatter(x, y, c=kmeans.labels_)\n",
    "plt.show()"
   ]
  },
  {
   "cell_type": "markdown",
   "id": "0e75c647",
   "metadata": {},
   "source": [
    "### 2. SPECTRAL CLUSTERING"
   ]
  },
  {
   "cell_type": "code",
   "execution_count": null,
   "id": "40d35537",
   "metadata": {},
   "outputs": [],
   "source": [
    "from sklearn.cluster import SpectralClustering\n",
    "import seaborn as sns \n",
    "spectral_cluster_model= SpectralClustering(\n",
    "    n_clusters=3, \n",
    "    random_state=100,\n",
    "    n_neighbors=25,\n",
    "    affinity='nearest_neighbors'\n",
    ")\n",
    "df2['cluster'] = spectral_cluster_model.fit_predict(df2[['LabelNum', 'followers']])\n",
    "fig, ax = plt.subplots()\n",
    "sns.scatterplot(x='LabelNum', y='followers', data=df2, hue='cluster', ax=ax)\n",
    "ax.set(title='Spectral Clustering')"
   ]
  }
 ],
 "metadata": {
  "kernelspec": {
   "display_name": "Python 3 (ipykernel)",
   "language": "python",
   "name": "python3"
  },
  "language_info": {
   "codemirror_mode": {
    "name": "ipython",
    "version": 3
   },
   "file_extension": ".py",
   "mimetype": "text/x-python",
   "name": "python",
   "nbconvert_exporter": "python",
   "pygments_lexer": "ipython3",
   "version": "3.9.13"
  }
 },
 "nbformat": 4,
 "nbformat_minor": 5
}
